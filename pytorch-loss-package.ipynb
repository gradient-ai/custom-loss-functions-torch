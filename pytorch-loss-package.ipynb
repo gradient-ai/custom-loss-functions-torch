{
 "cells": [
  {
   "cell_type": "code",
   "execution_count": null,
   "id": "c313b96a-109d-496a-9119-9cf1b3c807a6",
   "metadata": {
    "collapsed": false,
    "gradient": {
     "editing": false,
     "execution_count": 7,
     "id": "c313b96a-109d-496a-9119-9cf1b3c807a6",
     "kernelId": "7b7b0ed1-595b-4d6a-bf20-2a18178cb206",
     "source_hidden": false
    }
   },
   "outputs": [],
   "source": [
    "import torch.nn as nn\n",
    "import numpy as np\n",
    "import torch"
   ]
  },
  {
   "cell_type": "code",
   "execution_count": null,
   "id": "37920157-fdac-469d-8b0e-1d6daea835f4",
   "metadata": {
    "collapsed": false,
    "gradient": {
     "editing": false,
     "execution_count": 2,
     "id": "37920157-fdac-469d-8b0e-1d6daea835f4",
     "kernelId": "7b7b0ed1-595b-4d6a-bf20-2a18178cb206",
     "source_hidden": false
    }
   },
   "outputs": [],
   "source": [
    "MSE_loss_fn = nn.MSELoss()"
   ]
  },
  {
   "cell_type": "code",
   "execution_count": null,
   "id": "cf96bf4b-fe09-4c45-a7ec-efb753af05c5",
   "metadata": {
    "collapsed": false,
    "gradient": {
     "editing": false,
     "execution_count": 9,
     "id": "cf96bf4b-fe09-4c45-a7ec-efb753af05c5",
     "kernelId": "7b7b0ed1-595b-4d6a-bf20-2a18178cb206",
     "source_hidden": false
    }
   },
   "outputs": [
    {
     "data": {
      "text/plain": [
       "tensor(2.8194, grad_fn=<MseLossBackward0>)"
      ]
     },
     "execution_count": 9,
     "metadata": {},
     "output_type": "execute_result"
    },
    {
     "data": {
      "text/plain": [
       "tensor(2.8194, grad_fn=<MseLossBackward0>)"
      ]
     },
     "execution_count": 9,
     "metadata": {},
     "output_type": "execute_result"
    }
   ],
   "source": [
    "#predicted_value is the prediction from our neural network\n",
    "#target is the actual value in our dataset\n",
    "#loss_value is the loss between the predicted value and the actual value\n",
    "\n",
    "predicted_value = torch.randn(3, 5, requires_grad=True)\n",
    "target = torch.randn(3, 5)\n",
    "Loss_value = MSE_loss_fn(predicted_value, target)\n",
    "Loss_value"
   ]
  },
  {
   "cell_type": "code",
   "execution_count": null,
   "id": "85f64ae3-f8a5-46ca-89ea-f5905c1a519b",
   "metadata": {
    "collapsed": false,
    "gradient": {
     "editing": false,
     "execution_count": 10,
     "id": "85f64ae3-f8a5-46ca-89ea-f5905c1a519b",
     "kernelId": "7b7b0ed1-595b-4d6a-bf20-2a18178cb206",
     "source_hidden": false
    }
   },
   "outputs": [
    {
     "name": "stdout",
     "output_type": "stream",
     "text": [
      "tensor(0.6806, grad_fn=<MseLossBackward0>)\n"
     ]
    },
    {
     "name": "stdout",
     "output_type": "stream",
     "text": [
      "tensor(0.6806, grad_fn=<MseLossBackward0>)\n"
     ]
    }
   ],
   "source": [
    "loss = nn.MSELoss(size_average=None, reduce=None, reduction='mean')\n",
    "#L1 loss function parameters explanation applies here.\n",
    "\n",
    "input = torch.randn(3, 5, requires_grad=True)\n",
    "target = torch.randn(3, 5)\n",
    "output = loss(input, target)\n",
    "print(output)"
   ]
  },
  {
   "cell_type": "code",
   "execution_count": null,
   "id": "2d01210a-5a98-479a-b865-3dfe282d2f11",
   "metadata": {
    "collapsed": false,
    "gradient": {
     "editing": false,
     "execution_count": 11,
     "id": "2d01210a-5a98-479a-b865-3dfe282d2f11",
     "kernelId": "7b7b0ed1-595b-4d6a-bf20-2a18178cb206",
     "source_hidden": false
    }
   },
   "outputs": [
    {
     "name": "stdout",
     "output_type": "stream",
     "text": [
      "tensor(1.5450, grad_fn=<NllLoss2DBackward0>)\n"
     ]
    },
    {
     "name": "stdout",
     "output_type": "stream",
     "text": [
      "tensor(1.5450, grad_fn=<NllLoss2DBackward0>)\n"
     ]
    }
   ],
   "source": [
    "m = nn.LogSoftmax(dim=1)\n",
    "loss = nn.NLLLoss()\n",
    "# input is of size N x C = 3 x 5\n",
    "input = torch.randn(3, 5, requires_grad=True)\n",
    "# each element in target has to have 0 <= value < C\n",
    "target = torch.tensor([1, 0, 4])\n",
    "output = loss(m(input), target)\n",
    "output.backward()\n",
    "# 2D loss example (used, for example, with image inputs)\n",
    "N, C = 5, 4\n",
    "loss = nn.NLLLoss()\n",
    "# input is of size N x C x height x width\n",
    "data = torch.randn(N, 16, 10, 10)\n",
    "conv = nn.Conv2d(16, C, (3, 3))\n",
    "m = nn.LogSoftmax(dim=1)\n",
    "# each element in target has to have 0 <= value < C\n",
    "target = torch.empty(N, 8, 8, dtype=torch.long).random_(0, C)\n",
    "output = loss(m(conv(data)), target)\n",
    "print(output) #tensor(1.4892, grad_fn=<NllLoss2DBackward>)\n",
    "\n",
    "#credit NLLLoss — PyTorch 1.9.0 documentation"
   ]
  },
  {
   "cell_type": "code",
   "execution_count": null,
   "id": "e0358548-c062-4356-bde1-48370d389525",
   "metadata": {
    "collapsed": false,
    "gradient": {
     "editing": false,
     "execution_count": 12,
     "id": "e0358548-c062-4356-bde1-48370d389525",
     "kernelId": "7b7b0ed1-595b-4d6a-bf20-2a18178cb206",
     "source_hidden": false
    }
   },
   "outputs": [
    {
     "name": "stdout",
     "output_type": "stream",
     "text": [
      "tensor(0.4271, grad_fn=<BinaryCrossEntropyBackward0>)\n"
     ]
    },
    {
     "name": "stdout",
     "output_type": "stream",
     "text": [
      "tensor(0.4271, grad_fn=<BinaryCrossEntropyBackward0>)\n"
     ]
    }
   ],
   "source": [
    "m = nn.Sigmoid()\n",
    "loss = nn.BCELoss()\n",
    "input = torch.randn(3, requires_grad=True)\n",
    "target = torch.empty(3).random_(2)\n",
    "output = loss(m(input), target)\n",
    "print(output)"
   ]
  },
  {
   "cell_type": "code",
   "execution_count": null,
   "id": "7a61dd6c-ced6-4276-8fbd-c12863e2fb9d",
   "metadata": {
    "collapsed": false,
    "gradient": {
     "editing": false,
     "execution_count": 13,
     "id": "7a61dd6c-ced6-4276-8fbd-c12863e2fb9d",
     "kernelId": "7b7b0ed1-595b-4d6a-bf20-2a18178cb206",
     "source_hidden": false
    }
   },
   "outputs": [
    {
     "name": "stdout",
     "output_type": "stream",
     "text": [
      "tensor(0.2014)\n"
     ]
    },
    {
     "name": "stdout",
     "output_type": "stream",
     "text": [
      "tensor(0.2014)\n"
     ]
    }
   ],
   "source": [
    "target = torch.ones([10, 64], dtype=torch.float32)  # 64 classes, batch size = 10\n",
    "output = torch.full([10, 64], 1.5)  # A prediction (logit)\n",
    "pos_weight = torch.ones([64])  # All weights are equal to 1\n",
    "criterion = torch.nn.BCEWithLogitsLoss(pos_weight=pos_weight)\n",
    "loss = criterion(output, target)  # -log(sigmoid(1.5))\n",
    "print(loss)"
   ]
  },
  {
   "cell_type": "code",
   "execution_count": null,
   "id": "8240977d-bb38-440b-99ad-af0ef1e08464",
   "metadata": {
    "collapsed": false,
    "gradient": {
     "editing": false,
     "execution_count": 14,
     "id": "8240977d-bb38-440b-99ad-af0ef1e08464",
     "kernelId": "7b7b0ed1-595b-4d6a-bf20-2a18178cb206",
     "source_hidden": false
    }
   },
   "outputs": [
    {
     "name": "stdout",
     "output_type": "stream",
     "text": [
      "tensor(0.6056, grad_fn=<SmoothL1LossBackward0>)\n"
     ]
    }
   ],
   "source": [
    "loss = nn.SmoothL1Loss()\n",
    "input = torch.randn(3, 5, requires_grad=True)\n",
    "target = torch.randn(3, 5)\n",
    "output = loss(input, target)\n",
    "\n",
    "print(output)"
   ]
  },
  {
   "cell_type": "code",
   "execution_count": null,
   "id": "60d877f1-29b2-42d6-b104-c4b63e1e94aa",
   "metadata": {
    "collapsed": false,
    "gradient": {
     "editing": false,
     "execution_count": 15,
     "id": "60d877f1-29b2-42d6-b104-c4b63e1e94aa",
     "kernelId": "7b7b0ed1-595b-4d6a-bf20-2a18178cb206",
     "source_hidden": false
    }
   },
   "outputs": [
    {
     "name": "stdout",
     "output_type": "stream",
     "text": [
      "input:  tensor([[ 0.6033, -0.3001,  0.4326,  2.1788, -0.9402],\n",
      "        [-0.4873, -0.7483,  0.8523,  0.7697,  0.7079],\n",
      "        [-0.8984,  1.2344,  0.1296,  0.3399, -0.1461]], requires_grad=True)\n",
      "target:  tensor([[-0.5309,  1.9588, -0.8354, -0.7584, -0.8921],\n",
      "        [-0.2680, -0.5170,  1.0977, -0.9990, -1.0926],\n",
      "        [ 1.4229,  0.5937,  1.0307,  1.0360, -0.5884]])\n",
      "output:  tensor(1.0942, grad_fn=<MeanBackward0>)\n"
     ]
    }
   ],
   "source": [
    "input = torch.randn(3, 5, requires_grad=True)\n",
    "target = torch.randn(3, 5)\n",
    "\n",
    "hinge_loss = nn.HingeEmbeddingLoss()\n",
    "output = hinge_loss(input, target)\n",
    "output.backward()\n",
    "\n",
    "print('input: ', input)\n",
    "print('target: ', target)\n",
    "print('output: ', output)"
   ]
  },
  {
   "cell_type": "code",
   "execution_count": null,
   "id": "c584a8d8-78b9-4951-8021-cdf12aa57f24",
   "metadata": {
    "collapsed": false,
    "gradient": {
     "editing": false,
     "execution_count": 16,
     "id": "c584a8d8-78b9-4951-8021-cdf12aa57f24",
     "kernelId": "7b7b0ed1-595b-4d6a-bf20-2a18178cb206",
     "source_hidden": false
    }
   },
   "outputs": [
    {
     "name": "stdout",
     "output_type": "stream",
     "text": [
      "input1:  tensor([-0.8322, -1.2403,  0.3804], requires_grad=True)\n",
      "input2:  tensor([-0.7000, -0.7504,  0.2965], requires_grad=True)\n",
      "output:  tensor(0., grad_fn=<MeanBackward0>)\n"
     ]
    }
   ],
   "source": [
    "loss = nn.MarginRankingLoss()\n",
    "input1 = torch.randn(3, requires_grad=True)\n",
    "input2 = torch.randn(3, requires_grad=True)\n",
    "target = torch.randn(3).sign()\n",
    "output = loss(input1, input2, target)\n",
    "print('input1: ', input1)\n",
    "print('input2: ', input2)\n",
    "print('output: ', output)"
   ]
  },
  {
   "cell_type": "code",
   "execution_count": null,
   "id": "72af6ecf-8db6-4fa8-b979-2c687e0f9b34",
   "metadata": {
    "collapsed": false,
    "gradient": {
     "editing": false,
     "execution_count": 18,
     "id": "72af6ecf-8db6-4fa8-b979-2c687e0f9b34",
     "kernelId": "7b7b0ed1-595b-4d6a-bf20-2a18178cb206",
     "source_hidden": false
    }
   },
   "outputs": [
    {
     "name": "stdout",
     "output_type": "stream",
     "text": [
      "tensor(1.1503, grad_fn=<MeanBackward0>)\n"
     ]
    }
   ],
   "source": [
    "triplet_loss = nn.TripletMarginLoss(margin=1.0, p=2)\n",
    "anchor = torch.randn(100, 128, requires_grad=True)\n",
    "positive = torch.randn(100, 128, requires_grad=True)\n",
    "negative = torch.randn(100, 128, requires_grad=True)\n",
    "output = triplet_loss(anchor, positive, negative)\n",
    "print(output)"
   ]
  },
  {
   "cell_type": "code",
   "execution_count": null,
   "id": "896a1ab3-53dd-45d7-bde1-76783a027bf3",
   "metadata": {
    "collapsed": false,
    "gradient": {
     "editing": false,
     "execution_count": 19,
     "id": "896a1ab3-53dd-45d7-bde1-76783a027bf3",
     "kernelId": "7b7b0ed1-595b-4d6a-bf20-2a18178cb206",
     "source_hidden": false
    }
   },
   "outputs": [
    {
     "name": "stdout",
     "output_type": "stream",
     "text": [
      "input1:  tensor([[-0.4075,  0.4117,  1.1424, -1.3328,  0.0401, -0.6081],\n",
      "        [-1.1384,  0.5056,  0.3524, -0.2690, -1.3656, -0.5135],\n",
      "        [ 0.6023, -0.0791, -0.5538, -0.0454, -0.6518,  0.0982]],\n",
      "       requires_grad=True)\n",
      "input2:  tensor([[-1.6930,  0.0828, -0.4620,  0.9516,  0.7452, -1.4595],\n",
      "        [ 0.1901,  1.0373,  0.6092,  0.1464,  0.0046, -1.3386],\n",
      "        [ 0.7333, -1.7917,  0.3809,  1.2188, -0.2240,  0.2883]],\n",
      "       requires_grad=True)\n",
      "output:  tensor(0.6345, grad_fn=<MeanBackward0>)\n"
     ]
    }
   ],
   "source": [
    "loss = nn.CosineEmbeddingLoss()\n",
    "input1 = torch.randn(3, 6, requires_grad=True)\n",
    "input2 = torch.randn(3, 6, requires_grad=True)\n",
    "target = torch.randn(3).sign()\n",
    "output = loss(input1, input2, target)\n",
    "print('input1: ', input1)\n",
    "print('input2: ', input2)\n",
    "print('output: ', output)"
   ]
  },
  {
   "cell_type": "code",
   "execution_count": null,
   "id": "cd03f05e-31aa-415c-896e-b85b4d638a7e",
   "metadata": {
    "collapsed": false,
    "gradient": {
     "editing": true,
     "execution_count": 22,
     "id": "cd03f05e-31aa-415c-896e-b85b4d638a7e",
     "kernelId": "7b7b0ed1-595b-4d6a-bf20-2a18178cb206",
     "source_hidden": false
    }
   },
   "outputs": [
    {
     "data": {
      "text/plain": [
       "tensor(-0.0991, grad_fn=<KlDivBackward0>)"
      ]
     },
     "execution_count": 22,
     "metadata": {},
     "output_type": "execute_result"
    }
   ],
   "source": [
    "loss = nn.KLDivLoss(size_average=None, reduce=None, reduction='mean', log_target=False)\n",
    "input1 = torch.randn(3, 6, requires_grad=True)\n",
    "input2 = torch.randn(3, 6, requires_grad=True)\n",
    "output = loss(input1, input2)\n",
    "output"
   ]
  },
  {
   "cell_type": "code",
   "execution_count": null,
   "id": "eb5e3bef-2b5c-4dd3-8af6-1e784f63e80d",
   "metadata": {
    "collapsed": false,
    "gradient": {
     "editing": false,
     "id": "eb5e3bef-2b5c-4dd3-8af6-1e784f63e80d",
     "kernelId": "7b7b0ed1-595b-4d6a-bf20-2a18178cb206",
     "source_hidden": false
    }
   },
   "outputs": [],
   "source": []
  }
 ],
 "metadata": {},
 "nbformat": 4,
 "nbformat_minor": 5
}
